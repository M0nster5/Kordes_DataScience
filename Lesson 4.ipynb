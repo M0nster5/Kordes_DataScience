{
 "cells": [
  {
   "cell_type": "markdown",
   "metadata": {},
   "source": [
    "# Lesson 4 Questions\n",
    "\n",
    "    1) Create 3 variables for name (first and last), age and hometown. Assign to these variables your own name, age and hometown."
   ]
  },
  {
   "cell_type": "code",
   "execution_count": null,
   "metadata": {},
   "outputs": [],
   "source": [
    "    name = 'Connor Kordes'\n",
    "    age = 20\n",
    "    hometown = 'Austin, Tx'\n",
    "    \n",
    "    "
   ]
  },
  {
   "cell_type": "markdown",
   "metadata": {},
   "source": [
    "    1) Now I will use a print statement with these variable to say something about myself. Notice how I have to typecast my age."
   ]
  },
  {
   "cell_type": "code",
   "execution_count": 15,
   "metadata": {},
   "outputs": [
    {
     "name": "stdout",
     "output_type": "stream",
     "text": [
      "I am Connor Kordes. I am 20 years old. I’m from Austin, Tx\n"
     ]
    }
   ],
   "source": [
    "sentence = \"I am \" + name +\". I am \" + str(age) + \" years old. I’m from \"+ hometown\n",
    "print(sentence)"
   ]
  },
  {
   "cell_type": "markdown",
   "metadata": {},
   "source": [
    "        a) Now I will use a string method to make my name lower case. "
   ]
  },
  {
   "cell_type": "code",
   "execution_count": 6,
   "metadata": {},
   "outputs": [
    {
     "name": "stdout",
     "output_type": "stream",
     "text": [
      "connor kordes\n"
     ]
    }
   ],
   "source": [
    "print(name.lower())"
   ]
  },
  {
   "cell_type": "markdown",
   "metadata": {},
   "source": [
    "        b) I will now convert my name back to a propper noun"
   ]
  },
  {
   "cell_type": "code",
   "execution_count": 7,
   "metadata": {},
   "outputs": [
    {
     "name": "stdout",
     "output_type": "stream",
     "text": [
      "Connor Kordes\n"
     ]
    }
   ],
   "source": [
    "name[0].upper()\n",
    "name[7].upper()\n",
    "print(name)"
   ]
  },
  {
   "cell_type": "markdown",
   "metadata": {},
   "source": [
    "    2) Adjust the sentence so it is no longer in the first person using the replace method."
   ]
  },
  {
   "cell_type": "code",
   "execution_count": 14,
   "metadata": {},
   "outputs": [
    {
     "name": "stdout",
     "output_type": "stream",
     "text": [
      "He is Connor Kordes. He is 20 years old. he’s from Austin, Tx\n"
     ]
    }
   ],
   "source": [
    "sentence1 = sentence.replace(\"I am\", \"He is\")\n",
    "sentence1 = sentence.replace(\"I’m\", \"he’s\")\n",
    "print(sentence)"
   ]
  },
  {
   "cell_type": "markdown",
   "metadata": {},
   "source": [
    "    3)Returning a boolean response indicating whether the length of my original sentence (in #1) is greater than my age plus 40."
   ]
  },
  {
   "cell_type": "code",
   "execution_count": 16,
   "metadata": {},
   "outputs": [
    {
     "name": "stdout",
     "output_type": "stream",
     "text": [
      "The sentence plus my age is greater than or equal to 40\n"
     ]
    }
   ],
   "source": [
    "if len(sentence) + age >= 40:\n",
    "    print(\"The sentence plus my age is greater than or equal to 40\")\n",
    "else:\n",
    "    print(\"The sentence plus my age is less than 40\")\n",
    "        "
   ]
  },
  {
   "cell_type": "code",
   "execution_count": null,
   "metadata": {},
   "outputs": [],
   "source": []
  }
 ],
 "metadata": {
  "kernelspec": {
   "display_name": "Python 3",
   "language": "python",
   "name": "python3"
  },
  "language_info": {
   "codemirror_mode": {
    "name": "ipython",
    "version": 3
   },
   "file_extension": ".py",
   "mimetype": "text/x-python",
   "name": "python",
   "nbconvert_exporter": "python",
   "pygments_lexer": "ipython3",
   "version": "3.6.5"
  }
 },
 "nbformat": 4,
 "nbformat_minor": 2
}
