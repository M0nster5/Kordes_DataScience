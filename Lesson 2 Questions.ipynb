{
 "cells": [
  {
   "cell_type": "markdown",
   "metadata": {},
   "source": [
    "# Questions for Lesson 2\n",
    "\n",
    "    1) Data science is a field that utlizes modern computing power to find trends, look towards causation, and eventually predict behavior of a phenomenon. It does this using well established data bases, algorithms and machine learning. In my career I will use data science to maybe to optimize processes, for stocks, and to prevent mishaps in the air force.\n",
    "    2) The focus areas for this course are inference, explanation, and prediction.\n",
    "    3) Done.\n",
    "    4) Here are some fun calculations"
   ]
  },
  {
   "cell_type": "code",
   "execution_count": 14,
   "metadata": {},
   "outputs": [
    {
     "data": {
      "text/plain": [
       "25"
      ]
     },
     "execution_count": 14,
     "metadata": {},
     "output_type": "execute_result"
    }
   ],
   "source": [
    "5*5"
   ]
  },
  {
   "cell_type": "code",
   "execution_count": 15,
   "metadata": {},
   "outputs": [
    {
     "data": {
      "text/plain": [
       "36"
      ]
     },
     "execution_count": 15,
     "metadata": {},
     "output_type": "execute_result"
    }
   ],
   "source": [
    "6*6"
   ]
  },
  {
   "cell_type": "code",
   "execution_count": 16,
   "metadata": {},
   "outputs": [
    {
     "data": {
      "text/plain": [
       "3"
      ]
     },
     "execution_count": 16,
     "metadata": {},
     "output_type": "execute_result"
    }
   ],
   "source": [
    "7%4"
   ]
  },
  {
   "cell_type": "markdown",
   "metadata": {},
   "source": [
    "    5) Using print function to print my name using unicode for thumbs up"
   ]
  },
  {
   "cell_type": "code",
   "execution_count": 1,
   "metadata": {},
   "outputs": [
    {
     "name": "stdout",
     "output_type": "stream",
     "text": [
      "Connor Koolkid Kordes 👍\n"
     ]
    }
   ],
   "source": [
    "    print(\"Connor Koolkid Kordes \\U0001F44D\")"
   ]
  },
  {
   "cell_type": "markdown",
   "metadata": {},
   "source": [
    "    6) The fact that one increases as the other does describes that a relationship exists, that is there is a relation or correlation but this does not describe causation. To establish causation one would have to work to eliminate any confounding variables between icecream and crime.  "
   ]
  },
  {
   "cell_type": "markdown",
   "metadata": {},
   "source": [
    "    7) An observational study is one in which you have little control over the participants and you are simply observing them. Opposed to an experimental study where one has control in randomizing groups and reducing the amount of external factors. A good example is observing the effects of drinking during pregnancy on infant weight. This would be observational because you cannot simply make pregnant people drink."
   ]
  },
  {
   "cell_type": "code",
   "execution_count": null,
   "metadata": {},
   "outputs": [],
   "source": []
  }
 ],
 "metadata": {
  "kernelspec": {
   "display_name": "Python 3",
   "language": "python",
   "name": "python3"
  },
  "language_info": {
   "codemirror_mode": {
    "name": "ipython",
    "version": 3
   },
   "file_extension": ".py",
   "mimetype": "text/x-python",
   "name": "python",
   "nbconvert_exporter": "python",
   "pygments_lexer": "ipython3",
   "version": "3.6.5"
  }
 },
 "nbformat": 4,
 "nbformat_minor": 2
}
