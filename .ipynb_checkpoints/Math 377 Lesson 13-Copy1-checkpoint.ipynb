{
 "cells": [
  {
   "cell_type": "markdown",
   "metadata": {},
   "source": [
    "## Probability Distributions \n",
    "### Professors Warner and Horton\n",
    "\n",
    "In this notebook, we will introduce some of the more common discrete and continuous probability distributions. These are commonly used to model random events."
   ]
  },
  {
   "cell_type": "markdown",
   "metadata": {},
   "source": [
    "### Discrete Distributions"
   ]
  },
  {
   "cell_type": "markdown",
   "metadata": {},
   "source": [
    "Remember that a random variable is a mapping from the sample space to a real number, $X:S \\rightarrow \\mathbb{R}$. The *probability mass function* (pmf) is a function that maps each outcome of the random variable to a real number between 0 and 1, $f: \\mathbb{R} \\rightarrow [0,1]$, such that for all $x \\in \\mathbb{R}$, \n",
    "\n",
    "$$f(x)=P(X=x)$$"
   ]
  },
  {
   "cell_type": "markdown",
   "metadata": {},
   "source": [
    "Another useful idea is that of the *cumulative distribution function* (cdf) which is:\n",
    "\n",
    "$$ F_{X}(x) = P(X \\leq x)$$\n"
   ]
  },
  {
   "cell_type": "markdown",
   "metadata": {},
   "source": [
    "The pmf can be written as an explicit function, a table, a plot, or words. We will focus on the first. Most problems take a wording and convert it to a table of function."
   ]
  },
  {
   "cell_type": "markdown",
   "metadata": {},
   "source": [
    "##### Example  \n",
    "\n",
    "A team is playing a two game series against another team. The probability of winning the first game is 0.52 and the probability of winning the second, your star player has a planned absence, is 0.43. Let $X$ be the number of games won in the two played. \n",
    "\n",
    "1) Determine the probability mass function as a table.  \n",
    "2) Find the cumulative distribution function as a table.  \n",
    "3) Find the probability of winning at least one game.  "
   ]
  },
  {
   "cell_type": "code",
   "execution_count": 1,
   "metadata": {},
   "outputs": [],
   "source": [
    "# Run this code to import packages\n",
    "import datascience as ds\n",
    "import numpy as np\n",
    "from scipy import stats\n",
    "import matplotlib.pyplot as plt\n",
    "%matplotlib inline"
   ]
  },
  {
   "cell_type": "markdown",
   "metadata": {},
   "source": [
    "The random variable $X$ the number of games won in two played. It can take the values ${0,1,2}$. The sample space is ${LL,LW,WL,WW}$ which we will map to the random variable. Thus $LL \\rightarrow 0$, $LW \\rightarrow 1$,  $WL \\rightarrow 1$, and  $WW \\rightarrow 2$. The pmf is:"
   ]
  },
  {
   "cell_type": "markdown",
   "metadata": {},
   "source": [
    "1) Find the probability mass function."
   ]
  },
  {
   "cell_type": "code",
   "execution_count": 2,
   "metadata": {},
   "outputs": [
    {
     "data": {
      "text/html": [
       "<table border=\"1\" class=\"dataframe\">\n",
       "    <thead>\n",
       "        <tr>\n",
       "            <th>Number of Wins (x)</th> <th>Probability P(X=x)</th>\n",
       "        </tr>\n",
       "    </thead>\n",
       "    <tbody>\n",
       "        <tr>\n",
       "            <td>0                 </td> <td>0.2736            </td>\n",
       "        </tr>\n",
       "        <tr>\n",
       "            <td>1                 </td> <td>0.5028            </td>\n",
       "        </tr>\n",
       "        <tr>\n",
       "            <td>2                 </td> <td>0.2236            </td>\n",
       "        </tr>\n",
       "    </tbody>\n",
       "</table>"
      ],
      "text/plain": [
       "Number of Wins (x) | Probability P(X=x)\n",
       "0                  | 0.2736\n",
       "1                  | 0.5028\n",
       "2                  | 0.2236"
      ]
     },
     "execution_count": 2,
     "metadata": {},
     "output_type": "execute_result"
    }
   ],
   "source": [
    "w1=.52\n",
    "w2=.43\n",
    "pmf_table=ds.Table().with_columns([\"Number of Wins (x)\",np.arange(3)])\n",
    "probs= np.array([(1-w1)*(1-w2),(1-w1)*w2+w1*(1-w2),w1*w2])\n",
    "pmf_table=pmf_table.with_columns([\"Probability P(X=x)\",probs])\n",
    "pmf_table"
   ]
  },
  {
   "cell_type": "markdown",
   "metadata": {},
   "source": [
    "2) Find the cumulative probability distribution."
   ]
  },
  {
   "cell_type": "code",
   "execution_count": 3,
   "metadata": {},
   "outputs": [],
   "source": [
    "def cdf(table):\n",
    "    '''Given a two column table with values in first column and probability mass in the second,\n",
    "    return a table of the cdf\n",
    "    table - Two columns will realizations of the random variable in first and probability in second'''\n",
    "    temp=table.select(0).with_columns(\"Cumulative Probability\",np.cumsum(table[1]))\n",
    "    return temp"
   ]
  },
  {
   "cell_type": "code",
   "execution_count": 4,
   "metadata": {},
   "outputs": [
    {
     "data": {
      "text/html": [
       "<table border=\"1\" class=\"dataframe\">\n",
       "    <thead>\n",
       "        <tr>\n",
       "            <th>Number of Wins (x)</th> <th>Cumulative Probability</th>\n",
       "        </tr>\n",
       "    </thead>\n",
       "    <tbody>\n",
       "        <tr>\n",
       "            <td>0                 </td> <td>0.2736                </td>\n",
       "        </tr>\n",
       "        <tr>\n",
       "            <td>1                 </td> <td>0.7764                </td>\n",
       "        </tr>\n",
       "        <tr>\n",
       "            <td>2                 </td> <td>1                     </td>\n",
       "        </tr>\n",
       "    </tbody>\n",
       "</table>"
      ],
      "text/plain": [
       "Number of Wins (x) | Cumulative Probability\n",
       "0                  | 0.2736\n",
       "1                  | 0.7764\n",
       "2                  | 1"
      ]
     },
     "execution_count": 4,
     "metadata": {},
     "output_type": "execute_result"
    }
   ],
   "source": [
    "cdf(pmf_table)"
   ]
  },
  {
   "cell_type": "markdown",
   "metadata": {},
   "source": [
    "3) Find the probability of winning at least one game."
   ]
  },
  {
   "cell_type": "code",
   "execution_count": 7,
   "metadata": {},
   "outputs": [
    {
     "data": {
      "text/plain": [
       "0.7263999999999999"
      ]
     },
     "execution_count": 7,
     "metadata": {},
     "output_type": "execute_result"
    }
   ],
   "source": [
    "#1 minuse the probability of winning no games\n",
    "1-pmf_table.column(1).item(0)\n",
    "\n"
   ]
  },
  {
   "cell_type": "markdown",
   "metadata": {},
   "source": [
    "#### Moments"
   ]
  },
  {
   "cell_type": "markdown",
   "metadata": {},
   "source": [
    "Random variables can be summarized with expected values. In general, let $X$ be a discrete random variable with pmf $f(x)$. Then $$E(g(X)) = \\sum_{x}g(x)f(x)$$"
   ]
  },
  {
   "cell_type": "markdown",
   "metadata": {},
   "source": [
    "The mean is $$E(X) = \\mu = \\sum_{x}xf(x),$$ also called the first moment about the origin, and variance is \n",
    "$$E((X- \\mu)^{2})  = V(X) = \\sigma ^{2} =\\sum_{x}(x - \\mu)^{2}f(x), $$ known as the second moment about the mean."
   ]
  },
  {
   "cell_type": "markdown",
   "metadata": {},
   "source": [
    "For our problem above, find the mean and variance."
   ]
  },
  {
   "cell_type": "code",
   "execution_count": 8,
   "metadata": {},
   "outputs": [
    {
     "data": {
      "text/html": [
       "<table border=\"1\" class=\"dataframe\">\n",
       "    <thead>\n",
       "        <tr>\n",
       "            <th>Number of Wins (x)</th> <th>Probability P(X=x)</th>\n",
       "        </tr>\n",
       "    </thead>\n",
       "    <tbody>\n",
       "        <tr>\n",
       "            <td>0                 </td> <td>0.2736            </td>\n",
       "        </tr>\n",
       "        <tr>\n",
       "            <td>1                 </td> <td>0.5028            </td>\n",
       "        </tr>\n",
       "        <tr>\n",
       "            <td>2                 </td> <td>0.2236            </td>\n",
       "        </tr>\n",
       "    </tbody>\n",
       "</table>"
      ],
      "text/plain": [
       "Number of Wins (x) | Probability P(X=x)\n",
       "0                  | 0.2736\n",
       "1                  | 0.5028\n",
       "2                  | 0.2236"
      ]
     },
     "execution_count": 8,
     "metadata": {},
     "output_type": "execute_result"
    }
   ],
   "source": [
    "pmf_table"
   ]
  },
  {
   "cell_type": "code",
   "execution_count": 10,
   "metadata": {},
   "outputs": [
    {
     "name": "stdout",
     "output_type": "stream",
     "text": [
      "The expected value is0.95\n",
      "The variance is 0.49470000000000003\n"
     ]
    }
   ],
   "source": [
    "#use array multiplication and numpy to make calculations\n",
    "expected_value = np.sum(pmf_table.column(1)*pmf_table.column(0))\n",
    "\n",
    "variance = np.sum(((pmf_table.column(0)-expected_value)**2) * pmf_table.column(1))\n",
    "\n",
    "print(\"The expected value is\" + str(expected_value))\n",
    "print(\"The variance is \" + str(variance))"
   ]
  },
  {
   "cell_type": "markdown",
   "metadata": {},
   "source": [
    "### Named Discrete Distributions"
   ]
  },
  {
   "cell_type": "markdown",
   "metadata": {},
   "source": [
    "Helpfully, random variables often take on familiar \"named\" distributions. Such distributions occur often enough that we know the generic form of the pmf, expected value and variance. In these cases, we can avoid deriving the pmf like we did in 1) above. Below, we introduce many common \"named\" discrete distributions."
   ]
  },
  {
   "cell_type": "markdown",
   "metadata": {},
   "source": [
    "#### Binomial  \n",
    "\n",
    "If each trial of an experiment has only two outcomes, arbitrarily named success and failure, where the probability of success of each trial is constant and independent of the prior trials and the number of trials is fixed in advance, then we have a binomial random variable.  \n",
    "The general form of the random variable is $X$ is the number of successes in $n$ trials."
   ]
  },
  {
   "cell_type": "markdown",
   "metadata": {},
   "source": [
    "The closed form solution to the pmf is $$f(x;n,p) = {n\\choose x}p^{x}(1-p)^{n-x}$$"
   ]
  },
  {
   "cell_type": "markdown",
   "metadata": {},
   "source": [
    "Write a function to find the pmf of a binomial and then use it to make a second cdf function. The following function will help."
   ]
  },
  {
   "cell_type": "code",
   "execution_count": 11,
   "metadata": {},
   "outputs": [],
   "source": [
    "from math import factorial\n",
    "\n",
    "def choose(n, c):\n",
    "    '''Number of ways to choose c items from a list of n items.'''\n",
    "    return factorial(n) // (factorial(n - c) * factorial(c))"
   ]
  },
  {
   "cell_type": "code",
   "execution_count": 12,
   "metadata": {},
   "outputs": [],
   "source": [
    "def my_binom(x,n,p):\n",
    "    '''pmf of binomial r.v.; returns the probability of x successes out of n trials \n",
    "    where each trial has probability p of success'''\n",
    "    return choose(n,x)*p**x*(1-p)**(n-x)"
   ]
  },
  {
   "cell_type": "code",
   "execution_count": 13,
   "metadata": {},
   "outputs": [
    {
     "data": {
      "text/plain": [
       "0.375"
      ]
     },
     "execution_count": 13,
     "metadata": {},
     "output_type": "execute_result"
    }
   ],
   "source": [
    "my_binom(1,2,.25)"
   ]
  },
  {
   "cell_type": "code",
   "execution_count": 14,
   "metadata": {},
   "outputs": [],
   "source": [
    "def binom_table(n,p):\n",
    "    '''Create the pmf table for a binomial'''\n",
    "    pmf_table=ds.Table().with_columns(\"Number of Successes (x)\",np.arange(n+1))\n",
    "    pmf_table=pmf_table.with_columns(\"Probability P(X=x)\",pmf_table.apply(lambda x:my_binom(x,n,p),0))\n",
    "    return pmf_table"
   ]
  },
  {
   "cell_type": "code",
   "execution_count": 15,
   "metadata": {},
   "outputs": [
    {
     "data": {
      "text/html": [
       "<table border=\"1\" class=\"dataframe\">\n",
       "    <thead>\n",
       "        <tr>\n",
       "            <th>Number of Successes (x)</th> <th>Probability P(X=x)</th>\n",
       "        </tr>\n",
       "    </thead>\n",
       "    <tbody>\n",
       "        <tr>\n",
       "            <td>0                      </td> <td>0.316406          </td>\n",
       "        </tr>\n",
       "        <tr>\n",
       "            <td>1                      </td> <td>0.421875          </td>\n",
       "        </tr>\n",
       "        <tr>\n",
       "            <td>2                      </td> <td>0.210938          </td>\n",
       "        </tr>\n",
       "        <tr>\n",
       "            <td>3                      </td> <td>0.046875          </td>\n",
       "        </tr>\n",
       "        <tr>\n",
       "            <td>4                      </td> <td>0.00390625        </td>\n",
       "        </tr>\n",
       "    </tbody>\n",
       "</table>"
      ],
      "text/plain": [
       "Number of Successes (x) | Probability P(X=x)\n",
       "0                       | 0.316406\n",
       "1                       | 0.421875\n",
       "2                       | 0.210938\n",
       "3                       | 0.046875\n",
       "4                       | 0.00390625"
      ]
     },
     "execution_count": 15,
     "metadata": {},
     "output_type": "execute_result"
    }
   ],
   "source": [
    "binom_table(4,.25)"
   ]
  },
  {
   "cell_type": "code",
   "execution_count": 16,
   "metadata": {},
   "outputs": [
    {
     "data": {
      "text/html": [
       "<table border=\"1\" class=\"dataframe\">\n",
       "    <thead>\n",
       "        <tr>\n",
       "            <th>Number of Successes (x)</th> <th>Cumulative Probability</th>\n",
       "        </tr>\n",
       "    </thead>\n",
       "    <tbody>\n",
       "        <tr>\n",
       "            <td>0                      </td> <td>0.316406              </td>\n",
       "        </tr>\n",
       "        <tr>\n",
       "            <td>1                      </td> <td>0.738281              </td>\n",
       "        </tr>\n",
       "        <tr>\n",
       "            <td>2                      </td> <td>0.949219              </td>\n",
       "        </tr>\n",
       "        <tr>\n",
       "            <td>3                      </td> <td>0.996094              </td>\n",
       "        </tr>\n",
       "        <tr>\n",
       "            <td>4                      </td> <td>1                     </td>\n",
       "        </tr>\n",
       "    </tbody>\n",
       "</table>"
      ],
      "text/plain": [
       "Number of Successes (x) | Cumulative Probability\n",
       "0                       | 0.316406\n",
       "1                       | 0.738281\n",
       "2                       | 0.949219\n",
       "3                       | 0.996094\n",
       "4                       | 1"
      ]
     },
     "execution_count": 16,
     "metadata": {},
     "output_type": "execute_result"
    }
   ],
   "source": [
    "cdf(binom_table(4,.25))"
   ]
  },
  {
   "cell_type": "markdown",
   "metadata": {},
   "source": [
    "##### Checking results"
   ]
  },
  {
   "cell_type": "markdown",
   "metadata": {},
   "source": [
    "The scipy package has common \"named\" distributions built into its stats module. See the [link](https://docs.scipy.org/doc/scipy/reference/stats.html) to the package."
   ]
  },
  {
   "cell_type": "code",
   "execution_count": 17,
   "metadata": {},
   "outputs": [
    {
     "data": {
      "text/plain": [
       "0.21093750000000006"
      ]
     },
     "execution_count": 17,
     "metadata": {},
     "output_type": "execute_result"
    }
   ],
   "source": [
    "stats.binom.pmf(2,4,.25)"
   ]
  },
  {
   "cell_type": "code",
   "execution_count": 18,
   "metadata": {},
   "outputs": [
    {
     "data": {
      "text/plain": [
       "0.94921875"
      ]
     },
     "execution_count": 18,
     "metadata": {},
     "output_type": "execute_result"
    }
   ],
   "source": [
    "stats.binom.cdf(2,4,.25)"
   ]
  },
  {
   "cell_type": "markdown",
   "metadata": {},
   "source": [
    "The mean and variance of a binomial are $$E(X) = np$$ and $$V(X) = np(1-p)$$"
   ]
  },
  {
   "cell_type": "markdown",
   "metadata": {},
   "source": [
    "##### Randomization\n",
    "\n",
    "The scipy package also allows you to obtain random realizations from a random variable with a named distribution. "
   ]
  },
  {
   "cell_type": "code",
   "execution_count": 19,
   "metadata": {},
   "outputs": [
    {
     "data": {
      "text/plain": [
       "array([2, 0, 1, 0, 1, 1, 1, 0, 2, 1])"
      ]
     },
     "execution_count": 19,
     "metadata": {},
     "output_type": "execute_result"
    }
   ],
   "source": [
    "rands=stats.binom.rvs(4,0.25,size=1000)\n",
    "rands[:10]"
   ]
  },
  {
   "cell_type": "markdown",
   "metadata": {},
   "source": [
    "Let's look at the mean and variance of our random sample and compare with the mean and variance above."
   ]
  },
  {
   "cell_type": "code",
   "execution_count": 20,
   "metadata": {},
   "outputs": [
    {
     "name": "stdout",
     "output_type": "stream",
     "text": [
      "0.981\n",
      "1.0\n",
      "0.7326389999999999\n",
      "0.75\n"
     ]
    }
   ],
   "source": [
    "#Mean of random sample\n",
    "print(rands.mean())\n",
    "#Population mean\n",
    "print(4*0.25)\n",
    "#Var of random sample\n",
    "print(rands.var())\n",
    "#Population variance\n",
    "print(4*0.25*0.75)"
   ]
  },
  {
   "cell_type": "markdown",
   "metadata": {},
   "source": [
    "##### Example \n",
    "\n",
    "Suppose you toss a fair die 12 times. Let $X$ be the number of rolls that resulted in 1 and 2.\n",
    "\n",
    "1) Find the pmf of $X$.\n",
    "\n",
    "2) Find the mean and variance of $X$.\n",
    "\n",
    "3) Find the probability that $X$ is in the interval $[3,7]$. "
   ]
  },
  {
   "cell_type": "code",
   "execution_count": 25,
   "metadata": {},
   "outputs": [
    {
     "data": {
      "text/html": [
       "<table border=\"1\" class=\"dataframe\">\n",
       "    <thead>\n",
       "        <tr>\n",
       "            <th>Number of Successes (x)</th> <th>Probability P(X=x)</th>\n",
       "        </tr>\n",
       "    </thead>\n",
       "    <tbody>\n",
       "        <tr>\n",
       "            <td>0                      </td> <td>0.00770735        </td>\n",
       "        </tr>\n",
       "        <tr>\n",
       "            <td>1                      </td> <td>0.0462441         </td>\n",
       "        </tr>\n",
       "        <tr>\n",
       "            <td>2                      </td> <td>0.127171          </td>\n",
       "        </tr>\n",
       "        <tr>\n",
       "            <td>3                      </td> <td>0.211952          </td>\n",
       "        </tr>\n",
       "        <tr>\n",
       "            <td>4                      </td> <td>0.238446          </td>\n",
       "        </tr>\n",
       "        <tr>\n",
       "            <td>5                      </td> <td>0.190757          </td>\n",
       "        </tr>\n",
       "        <tr>\n",
       "            <td>6                      </td> <td>0.111275          </td>\n",
       "        </tr>\n",
       "        <tr>\n",
       "            <td>7                      </td> <td>0.0476892         </td>\n",
       "        </tr>\n",
       "        <tr>\n",
       "            <td>8                      </td> <td>0.0149029         </td>\n",
       "        </tr>\n",
       "        <tr>\n",
       "            <td>9                      </td> <td>0.00331175        </td>\n",
       "        </tr>\n",
       "        <tr>\n",
       "            <td>10                     </td> <td>0.000496763       </td>\n",
       "        </tr>\n",
       "        <tr>\n",
       "            <td>11                     </td> <td>4.51602e-05       </td>\n",
       "        </tr>\n",
       "        <tr>\n",
       "            <td>12                     </td> <td>1.88168e-06       </td>\n",
       "        </tr>\n",
       "    </tbody>\n",
       "</table>"
      ],
      "text/plain": [
       "<IPython.core.display.HTML object>"
      ]
     },
     "metadata": {},
     "output_type": "display_data"
    },
    {
     "name": "stdout",
     "output_type": "stream",
     "text": [
      "The mean is  4.000000000000002\n",
      "The variance is  2.666666666666667\n"
     ]
    }
   ],
   "source": [
    "my_pmf_table = binom_table(12,1/3)\n",
    "my_pmf_table.show()\n",
    "\n",
    "mean = np.sum(my_pmf_table.column(0)*my_pmf_table.column(1))\n",
    "print(\"The mean is \", mean)\n",
    "variance = np.sum(my_pmf_table.column(0)*my_pmf_table.column(1)*(1-my_pmf_table.column(1)))\n",
    "print (\"The variance is \", stats.binom.var(12,1/3))"
   ]
  },
  {
   "cell_type": "markdown",
   "metadata": {},
   "source": [
    "#### Negative Binomial  \n",
    "\n",
    "Similar to binomial except that the failures, the trials, are random and the successes are fixed. Notice that the last trial has to be a success.  \n",
    "The general form of the random variable is $X$ number of failures until the r<sup>th</sup> success.  \n",
    "The geometric distribution is a special case where r is 1.\n",
    "Since the trials are not fixed, $x = 0, 1, 2, 3, ...$"
   ]
  },
  {
   "cell_type": "markdown",
   "metadata": {},
   "source": [
    "The closed form solution to the pmf is $$f(x;r,p) = {x+r-1\\choose x}p^{r}(1-p)^{x}$$"
   ]
  },
  {
   "cell_type": "markdown",
   "metadata": {},
   "source": [
    "The mean and variance of a negative binomial are $$E(X) = \\frac{r}{p}-r$$ and $$V(X) = \\frac{r(1-p)}{p^2}$$"
   ]
  },
  {
   "cell_type": "markdown",
   "metadata": {},
   "source": [
    "##### Example\n",
    "\n",
    "Suppose I am a 60% free throw shooter (the probability of making a free throw is 0.6, and all my free throws are independent with identical chance of success). I would like to make 5 free throws. Let $X$ be the number of attempts before I make 5 free throws. \n",
    "\n",
    "1) Find the mean and variance of $X$.\n",
    "\n",
    "2) Find the probability I only need 5 attempts to make 5 free throws.\n",
    "\n",
    "3) Find the probability I need at least 10 attempts to make 5 free throws. "
   ]
  },
  {
   "cell_type": "code",
   "execution_count": null,
   "metadata": {},
   "outputs": [],
   "source": []
  },
  {
   "cell_type": "code",
   "execution_count": 26,
   "metadata": {},
   "outputs": [
    {
     "name": "stdout",
     "output_type": "stream",
     "text": [
      "My mean is 3.333333333333334\n",
      "My variability is 5.555555555555557\n",
      "Here is the probability of only needing 5 attempts to make 5 free throws: 0.07776\n",
      "Here is the probabliity I need at least 10 attempts to make 5 free throws: 0.8996709376\n"
     ]
    }
   ],
   "source": [
    "mean, var, skew, kurt = stats.nbinom.stats(5, .6, moments='mvsk')\n",
    "print (\"My mean is \" + str(mean))\n",
    "print(\"My variability is \" + str(var))\n",
    "print (\"Here is the probability of only needing 5 attempts to make 5 free throws: \" +str(stats.nbinom.pmf(0,5,.6)))\n",
    "print(\"Here is the probabliity I need at least 10 attempts to make 5 free throws: \" + str(1 - stats.nbinom.pmf(5,5,.6)))"
   ]
  },
  {
   "cell_type": "markdown",
   "metadata": {},
   "source": [
    "#### Poisson\n",
    "\n",
    "The Poisson distribution is common for modeling count or arrival data. It is common to model arrivals using the Poisson process. In this process, $X$, the number of arrivals in a specified amount of time, follows the Poisson distribution with parameter $\\lambda$, the average number of arrivals in that specified amount of time. For $x = 0,1,2,3,...$, the closed form solution to the pmf is\n",
    "$$\n",
    "f(x;\\lambda)=\\frac{e^{-\\lambda}\\lambda^x}{x!}\n",
    "$$"
   ]
  },
  {
   "cell_type": "markdown",
   "metadata": {},
   "source": [
    "The mean and variance are $$E(X)=V(X)=\\lambda$$"
   ]
  },
  {
   "cell_type": "markdown",
   "metadata": {},
   "source": [
    "##### Example\n",
    "\n",
    "Suppose fleet vehicles arrive to a maintenance garage at an average rate of 4 per day. Let's model these arrivals using the Poisson process. Let $X$ be the number of vehicles that arrive in a five day period. \n",
    "\n",
    "1) What is the distribution (with parameter) of $X$? \n",
    "\n",
    "2) Find the probability that fewer than 10 vehicles arrive in a five day period. \n",
    "\n",
    "3) Find the probability that at least 18 vehicles arrive in a five day period. "
   ]
  },
  {
   "cell_type": "code",
   "execution_count": 36,
   "metadata": {},
   "outputs": [
    {
     "data": {
      "image/png": "[encoded data removed]",
      "text/plain": [
       "<Figure size 432x288 with 1 Axes>"
      ]
     },
     "metadata": {},
     "output_type": "display_data"
    },
    {
     "name": "stdout",
     "output_type": "stream",
     "text": [
      "The probability that fewer than 10 vehicles arive is  0.0049954123083075785\n",
      "The probability that at least 18 is  0.38142194944715513\n"
     ]
    }
   ],
   "source": [
    "import matplotlib.pyplot as plt\n",
    "fig, ax = plt.subplots(1, 1)\n",
    "x = np.arange(stats.poisson.ppf(0.01, 4),\n",
    "              stats.poisson.ppf(0.99, 4))\n",
    "\n",
    "mean, var, skew, kurt = stats.poisson.stats(4, moments='mvsk')\n",
    "rv = stats.poisson(4)\n",
    "ax.vlines(x, 0, rv.pmf(x), colors='k', linestyles='-', lw=1, label='frozen pmf')\n",
    "ax.legend(loc='best', frameon=False)\n",
    "plt.show()\n",
    "\n",
    "rv = stats.poisson(20)\n",
    "print(\"The probability that fewer than 10 vehicles arive is \", rv.cdf(9))\n",
    "print(\"The probability that at least 18 is \", rv.cdf(18))"
   ]
  },
  {
   "cell_type": "markdown",
   "metadata": {},
   "source": [
    "#### Hypergeometric\n",
    "\n",
    "The hypergeometric distribution is similar to the binomial distribution, but where outcomes are drawn without replacement. $X$ is the number of successes out of $N$ trials, but these trials are selected out of a finite population containing $M$ objects with $n$ successes. We can think of this as an urn problem similar to those we discussed in the Lesson 8 notebook. For $N-(M-n) \\leq x \\leq \\min(n,N)$, \n",
    "$$\n",
    "f(x;N,n,M)= \\frac{{n\\choose k}{{M-n}\\choose {N-k}}}{M\\choose N}\n",
    "$$\n",
    "\n",
    "The mean and variance are \n",
    "$$\n",
    "E(X)=\\frac{nN}{M}\n",
    "$$\n",
    "\n",
    "and\n",
    "$$\n",
    "V(X)=\\frac{nN(M-n)(M-N)}{M^2(M-1)}\n",
    "$$"
   ]
  },
  {
   "cell_type": "markdown",
   "metadata": {},
   "source": [
    "##### Example\n",
    "\n",
    "Suppose we have an urn containing 6 blue, 9 red and 8 white balls. We select 6 at random. Let $X$ be the number of red balls we select in our sample of 6. \n",
    "\n",
    "1) Find the expected value of $X$.\n",
    "\n",
    "2) Find $P(X\\geq 2)$. \n",
    "\n",
    "3) Find the variance of $X$. Verify your calculation by generating a large random sample and computing the variance of that random sample. "
   ]
  },
  {
   "cell_type": "code",
   "execution_count": 38,
   "metadata": {},
   "outputs": [
    {
     "name": "stdout",
     "output_type": "stream",
     "text": [
      "The expected value is: 2.16\n",
      "The probability X >= 2 is: 0.7328063241106719\n",
      "The variance is: 1.0944\n",
      "The variance of the sample is: 1.0671190000000002\n"
     ]
    }
   ],
   "source": [
    "[M, n, N] = [25, 9, 6]\n",
    "\n",
    "rv = stats.hypergeom(M, n, N)\n",
    "x = np.arange(0, n+1)\n",
    "pmf_dogs = rv.pmf(x)\n",
    "\n",
    "expected_value = n*N/M\n",
    "print(\"The expected value is: \" + str(expected_value))\n",
    "\n",
    "cdf_dogs = np.cumsum(pmf_dogs)\n",
    "print(\"The probability X >= 2 is: \" + str(cdf_dogs.item(-1) - cdf_dogs.item(1)))\n",
    "\n",
    "variance = (n*N*(M-n)*(M-N))/((M**2)*(M-1))\n",
    "print(\"The variance is: \" + str(variance))\n",
    "\n",
    "rands = stats.hypergeom.rvs(M,n,N,size = 1000)\n",
    "print(\"The variance of the sample is: \" + str(rands.var()))"
   ]
  },
  {
   "cell_type": "markdown",
   "metadata": {},
   "source": [
    "#### Uniform\n",
    "\n",
    "A random variable with the discrete uniform distribution, with parameters $a$ and $b$, has an equal probability of taking on any integers in the range $[a,b)$. For $a\\leq x < b$,\n",
    "$$\n",
    "f(x;a,b)= \\frac{1}{b-a}\n",
    "$$\n",
    "\n",
    "The mean and variance are \n",
    "$$\n",
    "E(X) = \\frac{b+a-1}{2}\n",
    "$$\n",
    "\n",
    "and \n",
    "$$\n",
    "V(X) = \\frac{(b-a-1)(b-a+1)}{12}\n",
    "$$\n"
   ]
  },
  {
   "cell_type": "markdown",
   "metadata": {},
   "source": [
    "#### Multinomial\n",
    "\n",
    "The multinomial distribution is a generalization of binomial distribution. In the binomial case, trials can result in either success or failure. In the multinomial case, there could be more than two distinct outcomes. Here, the random variable $X$ is a vector (rather than a scalar) representing the counts of each outcome. For more information regarding the multinomial distribution, please review the `scipy` documentation (https://docs.scipy.org/doc/scipy/reference/generated/scipy.stats.multinomial.html). "
   ]
  },
  {
   "cell_type": "markdown",
   "metadata": {},
   "source": [
    "### Continuous Distributions"
   ]
  },
  {
   "cell_type": "markdown",
   "metadata": {},
   "source": [
    "Now we turn to random variables that can take on any value in a range rather than only distinct points. These continous distributions differ in several ways from their discrete counterparts. \n",
    "\n",
    "Rather than a pmf, each continuous random variable has a **probability density function** (pdf). This too is represented by $f_X(x)$, but the function does not return a probability but rather a density. The pdf has the properties that \n",
    "1. $f(x) \\geq 0$  \n",
    "\n",
    "2. $\\int_{-\\infty}^{\\infty} f(y) dy = 1$\n",
    "\n",
    "Also, each random variable as a **cumulative distribution function** (cdf). This function has the same meaning as in the discrete case, but can be found via integration:  \n",
    "$$ F_{X}(x) = P(X \\leq x) = \\int_{-\\infty}^x f(y)dy $$"
   ]
  },
  {
   "cell_type": "markdown",
   "metadata": {},
   "source": [
    "Suppose $Y$ is a continuous random variable that can take any value in the interval $[0,1]$. It has the pdf $f_Y(y) = 2y$ in this interval. Because $Y$ is a continuous random variable the probablility at any specific value is technically 0. We could find the probability that $Y$ takes a value in any range by integrating across this function. For example: \n",
    "$$\n",
    "P(0\\leq Y \\leq 0.5) = \\int_0^{0.5} 2y dy = y^2\\bigg|_0^{0.5} = 0.25\n",
    "$$"
   ]
  },
  {
   "cell_type": "code",
   "execution_count": 39,
   "metadata": {},
   "outputs": [],
   "source": [
    "from scipy import integrate"
   ]
  },
  {
   "cell_type": "markdown",
   "metadata": {},
   "source": [
    "Create a function for the pdf"
   ]
  },
  {
   "cell_type": "code",
   "execution_count": 40,
   "metadata": {},
   "outputs": [],
   "source": [
    "def my_pdf(x):\n",
    "    if x<0 or x>1:\n",
    "        return 0\n",
    "    return 2*x"
   ]
  },
  {
   "cell_type": "code",
   "execution_count": 41,
   "metadata": {},
   "outputs": [
    {
     "data": {
      "text/plain": [
       "0.25"
      ]
     },
     "execution_count": 41,
     "metadata": {},
     "output_type": "execute_result"
    }
   ],
   "source": [
    "np.round(integrate.quad(lambda x:my_pdf(x),0,.5)[0],5)"
   ]
  },
  {
   "cell_type": "code",
   "execution_count": 42,
   "metadata": {},
   "outputs": [
    {
     "data": {
      "text/plain": [
       "1.0"
      ]
     },
     "execution_count": 42,
     "metadata": {},
     "output_type": "execute_result"
    }
   ],
   "source": [
    "np.round(integrate.quad(lambda x:my_pdf(x),-3,2)[0],5)"
   ]
  },
  {
   "cell_type": "markdown",
   "metadata": {},
   "source": [
    "### Moments\n",
    "\n",
    "As in the discrete case, continuous random variables can be summarized using moments. However, we can use integration rather than direct sums. Let $X$ be a continuous random variable with pdf $f(x)$:\n",
    "$$\n",
    "E(g(x))=\\int_x g(x)f(x)dx\n",
    "$$\n",
    "\n",
    "The mean, or expected value, of $X$ is found by:\n",
    "$$\n",
    "E(X)=\\int_x xf(x)dx\n",
    "$$\n",
    "\n",
    "The variance of $X$ is:\n",
    "$$\n",
    "V(X)=E((X-\\mu)^2)=\\int_x (x-\\mu)^2f(x) dx\n",
    "$$\n",
    "\n",
    "Also, the expression for variance can be simplified to $V(X)= E(X^2) - \\mu^2$. \n"
   ]
  },
  {
   "cell_type": "markdown",
   "metadata": {},
   "source": [
    "We can use Python to integrate numerically. To find the expected value of $X$:"
   ]
  },
  {
   "cell_type": "code",
   "execution_count": 43,
   "metadata": {},
   "outputs": [
    {
     "data": {
      "text/plain": [
       "0.66667"
      ]
     },
     "execution_count": 43,
     "metadata": {},
     "output_type": "execute_result"
    }
   ],
   "source": [
    "np.round(integrate.quad(lambda x:x*my_pdf(x),-3,2)[0],5)"
   ]
  },
  {
   "cell_type": "markdown",
   "metadata": {},
   "source": [
    "##### Example\n",
    "\n",
    "1) Let $g(x)=kx^2$ on $[0,2]$. Find $k$ that makes $g(x)$ a proper pdf. \n",
    "\n",
    "2) Find $P(.5<X<1.5)$\n",
    "\n",
    "3) Find $E(X)$"
   ]
  },
  {
   "cell_type": "code",
   "execution_count": 44,
   "metadata": {},
   "outputs": [],
   "source": [
    "k = 3/8"
   ]
  },
  {
   "cell_type": "markdown",
   "metadata": {},
   "source": [
    "#### Uniform\n",
    "\n",
    "The simplest continuous distribution is the uniform distribution. Let $X$ be a random variable that has the continuous uniform distribution on $[a,b]$. $X$ has equal probability of taking any value in this range. For $a \\leq x \\leq b$, \n",
    "$$\n",
    "f(x)=\\frac{1}{b-a}\n",
    "$$\n",
    "\n",
    "The mean and variance are\n",
    "$$\n",
    "E(X)=\\frac{a+b}{2}\n",
    "$$\n",
    "\n",
    "and \n",
    "$$\n",
    "V(X)=\\frac{(b-a)^2}{12}\n",
    "$$"
   ]
  },
  {
   "cell_type": "markdown",
   "metadata": {},
   "source": [
    "#### Exponential\n",
    "\n",
    "The exponential distribution is closely related to the Poisson distribution. Both distributions are results of a Poisson process. Recall that in a Poisson process, if $X$ represents the number of arrivals in a certain amount of time, then $X$ follows a Poisson distribution with parameter $\\lambda$, the mean number of arrivals in that amount of time. \n",
    "\n",
    "Let $Y$ represent the amount of time until the next arrival in this process. $Y$ follows an exponential distribution with parameter $\\lambda$, the mean number of arrivals in *unit* time. Note that in `scipy`, the parameter is specified with the `scale` argument, where `scale` is equal to $1/\\lambda$. \n",
    "\n",
    "For $y\\geq 0$,\n",
    "$$\n",
    "f(y)=\\lambda e^{-\\lambda y}\n",
    "$$\n",
    "\n",
    "The mean and variance are \n",
    "$$\n",
    "E(Y)=\\frac{1}{\\lambda}\n",
    "$$\n",
    "and \n",
    "$$\n",
    "V(Y)=\\frac{1}{\\lambda^2}\n",
    "$$\n"
   ]
  },
  {
   "cell_type": "markdown",
   "metadata": {},
   "source": [
    "##### Example\n",
    "\n",
    "Suppose fleet vehicles arrive to a maintenance garage at an average rate of 4 per day. Let's model these arrivals using the Poisson process. Let $Y$ be the time (in days) until the next arrival. \n",
    "\n",
    "1) What is the distribution (with parameter) of $Y$? \n",
    "\n",
    "2) Find the probability that no vehicles arrive in the next five days. \n",
    "\n",
    "3) Find the probability that the next vehicle will arrive at least 2 days from now, but before 4 days from now. "
   ]
  },
  {
   "cell_type": "code",
   "execution_count": 51,
   "metadata": {},
   "outputs": [
    {
     "name": "stdout",
     "output_type": "stream",
     "text": [
      "The probability no vehicles arrive in the next five days is  0.25\n",
      "The probability that the next vehicle will arrive at least two days from now is  0.00075\n"
     ]
    },
    {
     "data": {
      "image/png": "[encoded data removed]",
      "text/plain": [
       "<Figure size 432x288 with 1 Axes>"
      ]
     },
     "metadata": {},
     "output_type": "display_data"
    }
   ],
   "source": [
    "def my_func(x,y):\n",
    "    if x<0:\n",
    "        return 0\n",
    "    return x*np.exp(-x*y)\n",
    "\n",
    "fig, ax = plt.subplots(1, 1)\n",
    "\n",
    "x = np.linspace(stats.expon.ppf(0.01),\n",
    "                stats.expon.ppf(0.99), 100)\n",
    "ax.plot(x, stats.expon.pdf(x),\n",
    "       'r-', lw=4, alpha=0.6, label='expon pdf')\n",
    "\n",
    "print(\"The probability no vehicles arrive in the next five days is \", np.round(integrate.quad(lambda x:x*my_func(4,x),0,5)[0],5))\n",
    "\n",
    "print(\"The probability that the next vehicle will arrive at least two days from now is \", np.round(integrate.quad(lambda x:x*my_func(4,x),2,4)[0],5))\n"
   ]
  },
  {
   "cell_type": "markdown",
   "metadata": {},
   "source": [
    "#### Normal\n",
    "\n",
    "The normal (or Gaussian) distribution is an incredibly important distribution in probability and statistics. You have certainly seen a bell curve at some point and are likely aware that certain quantities take a bell shaped, or normal, distribution. \n",
    "\n",
    "Let $X \\sim \\textsf{N}(\\mu,\\sigma)$. The parameters $\\mu$ and $\\sigma$ represent the mean and standard deviation of $X$. In `scipy`, these are referred to as `loc` and `scale`. \n",
    "\n",
    "For $-\\infty < x < \\infty$,\n",
    "$$\n",
    "f(x;\\mu,\\sigma) = \\frac{1}{\\sqrt{2\\pi\\sigma^2}}e^{-\\frac{(x-\\mu)^2}{2\\sigma^2}}\n",
    "$$\n",
    "\n",
    "As mentioned, the mean and variance are $\\mu$ and $\\sigma^2$. "
   ]
  },
  {
   "cell_type": "markdown",
   "metadata": {},
   "source": [
    "##### Example\n",
    "\n",
    "Let $X$ follow the normal distribution with mean 3 and standard deviation 10. \n",
    "\n",
    "1) Find $P(X<0)$. \n",
    "\n",
    "2) Find the 90th percentile of $X$. \n",
    "\n",
    "3) Given $X$ is greater than the mean, find the probability that $X$ is less than the mean plus two standard deviations. "
   ]
  },
  {
   "cell_type": "code",
   "execution_count": 60,
   "metadata": {},
   "outputs": [
    {
     "name": "stdout",
     "output_type": "stream",
     "text": [
      "The Probability X<0 is: 3.0\n",
      "The 90th percentile of X is: 15.815515655446003\n"
     ]
    },
    {
     "data": {
      "image/png": "[encoded data removed]",
      "text/plain": [
       "<Figure size 432x288 with 1 Axes>"
      ]
     },
     "metadata": {},
     "output_type": "display_data"
    }
   ],
   "source": [
    "from math import inf\n",
    "\n",
    "fig, ax = plt.subplots(1, 1)\n",
    "\n",
    "x = np.linspace(stats.norm.ppf(0.01),\n",
    "                stats.norm.ppf(0.99), 100)\n",
    "ax.plot(x, stats.norm.pdf(x, loc = 3, scale = 10),\n",
    "       'r-', lw=5, alpha=0.6, label='norm pdf')\n",
    "\n",
    "print(\"The Probability X<0 is: \" + str(np.round(integrate.quad(lambda x:x*stats.norm.pdf(x,loc = 3, scale = 10),-inf,inf)[0],5)))\n",
    "\n",
    "\n",
    "print(\"The 90th percentile of X is: \" + str(stats.norm.ppf(.9, loc = 3, scale = 10)))\n",
    "\n",
    "\n"
   ]
  },
  {
   "cell_type": "markdown",
   "metadata": {},
   "source": [
    "#### Gamma"
   ]
  },
  {
   "cell_type": "markdown",
   "metadata": {},
   "source": [
    "The gamma distribution is a generalization of the exponential distribution. If $X$ has the gamma distribution with parameters $\\alpha$ and $\\lambda$. Note that in `scipy`, $\\alpha$ is the shape parameter, $a$, and $\\lambda$ is the inverse of the scale parameter (similar to the exponential distribution). \n",
    "\n",
    "For $x\\geq 0$, \n",
    "$$\n",
    "f(x;\\alpha,\\lambda)= \\frac{\\lambda^\\alpha}{\\Gamma(\\alpha)}x^{\\alpha-1}e^{-\\lambda x}\n",
    "$$\n",
    "\n",
    "The mean and variance are:\n",
    "$$\n",
    "E(X)=\\frac{\\alpha}{\\lambda}\n",
    "$$\n",
    "\n",
    "and\n",
    "$$\n",
    "V(X)=\\frac{\\alpha}{\\lambda^2}\n",
    "$$"
   ]
  },
  {
   "cell_type": "markdown",
   "metadata": {},
   "source": [
    "##### Example\n",
    "\n",
    "Let $X \\sim \\textsf{Gamma}(3,0.7)$. \n",
    "\n",
    "1) Find $P(X>E(X))$\n",
    "\n",
    "2) Find $P(X\\leq 1)$"
   ]
  },
  {
   "cell_type": "code",
   "execution_count": null,
   "metadata": {},
   "outputs": [],
   "source": []
  },
  {
   "cell_type": "code",
   "execution_count": 61,
   "metadata": {},
   "outputs": [
    {
     "data": {
      "image/png": "[encoded data removed]",
      "text/plain": [
       "<Figure size 432x288 with 1 Axes>"
      ]
     },
     "metadata": {},
     "output_type": "display_data"
    }
   ],
   "source": [
    "_,ax=plt.subplots(1,1)\n",
    "x=np.arange(0.001,20,0.001)\n",
    "ax.plot(x,stats.gamma.pdf(x,3,scale=1/0.7));"
   ]
  },
  {
   "cell_type": "markdown",
   "metadata": {},
   "source": [
    "Note that we can plot the exponential distribution with $\\lambda=0.7$ by setting $a=1$:"
   ]
  },
  {
   "cell_type": "code",
   "execution_count": 62,
   "metadata": {},
   "outputs": [
    {
     "data": {
      "image/png": "[encoded data removed]",
      "text/plain": [
       "<Figure size 432x288 with 1 Axes>"
      ]
     },
     "metadata": {},
     "output_type": "display_data"
    }
   ],
   "source": [
    "_,ax=plt.subplots(1,1)\n",
    "x=np.arange(0.001,10,0.001)\n",
    "ax.plot(x,stats.gamma.pdf(x,1,scale=1/0.7));"
   ]
  },
  {
   "cell_type": "markdown",
   "metadata": {},
   "source": [
    "#### Beta\n",
    "\n",
    "The beta distribution is unique among continuous distributions in that it applies only to random variables restricted to the domain $[0,1]$. The continuous uniform distribution is a special case of the beta distribution. To learn more about the beta distribution, see the `scipy` documentation: https://docs.scipy.org/doc/scipy/reference/generated/scipy.stats.beta.html#scipy.stats.beta"
   ]
  },
  {
   "cell_type": "markdown",
   "metadata": {},
   "source": [
    "##### Example\n",
    "\n",
    "1) What are the parameters of the beta distribution that make the distribution equivalent to $\\textsf{Unif}(0,1)$? "
   ]
  }
 ],
 "metadata": {
  "kernelspec": {
   "display_name": "Python 3",
   "language": "python",
   "name": "python3"
  },
  "language_info": {
   "codemirror_mode": {
    "name": "ipython",
    "version": 3
   },
   "file_extension": ".py",
   "mimetype": "text/x-python",
   "name": "python",
   "nbconvert_exporter": "python",
   "pygments_lexer": "ipython3",
   "version": "3.6.5"
  }
 },
 "nbformat": 4,
 "nbformat_minor": 2
}
