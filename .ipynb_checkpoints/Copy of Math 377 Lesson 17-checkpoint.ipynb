{
 "cells": [
  {
   "cell_type": "code",
   "execution_count": 5,
   "metadata": {},
   "outputs": [],
   "source": [
    "from datascience import *\n",
    "import numpy as np\n",
    "from math import *"
   ]
  },
  {
   "cell_type": "markdown",
   "metadata": {},
   "source": [
    "## Transformations"
   ]
  },
  {
   "cell_type": "markdown",
   "metadata": {},
   "source": [
    "In some cases, we may be interested in the distribution of a transformation of a random variable. For example, if we know the distribution of $X$, we may wish to know the distribution of $X^2$ or $2X$. \n",
    "\n",
    "It helps to consider the pmf/cdf of the original random variables. Let $Y=t(X)$ where $X$ is discrete:\n",
    "\n",
    "$$\n",
    "f_Y(y)=P(Y=y) = P(t(X)=y) = P( X = t^{-1}(y))\n",
    "$$\n",
    "\n",
    "In the continuous case, let's consider the cdf:\n",
    "\n",
    "$$\n",
    "F_Y(y)=P(Y\\leq y) = P(t(X)\\leq y) = P(X \\leq t^{-1}(y)) = F_X(t^{-1}(y))\n",
    "$$"
   ]
  },
  {
   "cell_type": "markdown",
   "metadata": {},
   "source": [
    "### Discrete"
   ]
  },
  {
   "cell_type": "markdown",
   "metadata": {},
   "source": [
    "#### Example 1\n",
    "\n",
    "Suppose the pmf for $X$ is given by the following table: \n",
    "\n",
    " | value of $X$  | -2 | -1 | 0 | 1 | 2 | \n",
    " | ------ | ------ | ----- | ----- | ----- | ----- |\n",
    " | probability | 0.05 | 0.10 | 0.35 | 0.30 | 0.20 |\n",
    "\n",
    "Find the distribution of $X^2$ and calculate $E(X^2)$. Does $E(X^2) = [E(X)]^2$? "
   ]
  },
  {
   "cell_type": "markdown",
   "metadata": {},
   "source": [
    "X is an element of the set {0, 1, 4}"
   ]
  },
  {
   "cell_type": "code",
   "execution_count": 6,
   "metadata": {},
   "outputs": [
    {
     "name": "stdout",
     "output_type": "stream",
     "text": [
      "E(x) is 0.5\n",
      "E(x^2) is 1.2000000000000002\n",
      "[E(x)]^2 is .25 so we no transformations are different\n"
     ]
    }
   ],
   "source": [
    "print(\"E(x) is \" + str(-2 * .05 + -1*.1 + 0*.35 + 1*.3 + 2*.2))\n",
    "print(\"E(x^2) is \" + str(1 * .1 + 1*.3 + 0 *.35* 4*.05 + 4*.2))\n",
    "\n",
    "print(\"[E(x)]^2 is .25 so we no transformations are different\")"
   ]
  },
  {
   "cell_type": "markdown",
   "metadata": {},
   "source": [
    "#### Example 2\n",
    "Let $X \\sim \\textsf{Binom}(n,p)$. What is the pmf for $X+3$? Make sure you specify the domain of $X+3$.\n"
   ]
  },
  {
   "cell_type": "markdown",
   "metadata": {},
   "source": [
    "We know X: 1,2,3, ... , n\n",
    "\n",
    "and the pmf is $$f(x;n,p) = {n\\choose x}p^{x}(1-p)^{n-x}$$\n",
    "\n",
    "y = x+3\n",
    "and fy(y) = P(Y = y) = P(x+3 = y) = P(x = y-3.\n",
    "thus fx(y-3) = $$ {n\\choose y-3}p^{y-3}(1-p)^{n-y +3}$$"
   ]
  },
  {
   "cell_type": "markdown",
   "metadata": {},
   "source": [
    "#### Example 3\n",
    "\n",
    "Let $X \\sim \\textsf{Unif}(0,1)$. Let $Y=X^2$. Find the **pdf** of $Y$. Again, specify the domain of $Y$. "
   ]
  },
  {
   "cell_type": "markdown",
   "metadata": {},
   "source": [
    "We know x~Uniform(0,1) \n",
    "\n",
    "and\n",
    "\n",
    "Fx(x) = intregral from 0 to x of 1 with respect to z = x\n",
    "\n",
    "and Y = x^2.\n",
    "\n",
    "Thus, sqrt(y) = x and\n",
    "\n",
    "Fy(y) = sqrt(y)\n",
    "\n",
    "Taking the derivative to get the pdf of y\n",
    "\n",
    "F'y(y) = fy(y) = 1/ (2*sqrt(y))"
   ]
  },
  {
   "cell_type": "markdown",
   "metadata": {},
   "source": [
    "## Moment Generating Functions (MGF)"
   ]
  },
  {
   "cell_type": "markdown",
   "metadata": {},
   "source": [
    "One powerful concept in probability is the moment generating function (mgf). Let $X$ be a random variable. The mgf of $X$ is denoted by $M_X(t)$. This function is powerful because it can be used as a shortcut to find the $k$th central moment. Specifically,\n",
    "\n",
    "$$\n",
    "E(X^k) = \\frac{d^k}{dt^k} M_X(t) \\bigg |_{t=0}\n",
    "$$\n",
    "\n",
    "If you know the moment generating function of $X$, you can simply take the derivative of it with respect to $t$, evaluate at $t=0$ and the result is the expected value of $X$, $E(X)$. \n",
    "\n",
    "The mgf of $X$ is found by\n",
    "\n",
    "$$\n",
    "M_X(t) = E(e^{tX})\n",
    "$$\n",
    "\n",
    "#### Example 4: \n",
    "\n",
    "Let $X$ be a random variable with the exponential distribution with parameter $\\lambda >0$. Recall that $f_X(x) = \\lambda e^{-\\lambda x}$, for $x>0$. Find the mgf of $X$. Use it to verify that $E(X) = \\frac{1}{\\lambda}$. \n",
    "\n"
   ]
  },
  {
   "cell_type": "markdown",
   "metadata": {},
   "source": [
    "We know E(e^(tx)) = integral e^(tx)*f(x)dx or  lambda * e^(x*(t-lambda))/(t-lambda) and looking at the form of the moment generating function yelds  1/lambda"
   ]
  },
  {
   "cell_type": "markdown",
   "metadata": {},
   "source": [
    "#### Example 5:\n",
    "\n",
    "The moment generating function of a random variable with the binomial distribution (with parameters $n$ and $p$) is given by $M_X(t) = (pe^t + 1 - p)^n$. Use the mgf to verify that $E(X)=np$ and $V(X)=np(1-p)$. Note that $V(X)=E(X^2)-[E(X)]^2$. "
   ]
  },
  {
   "cell_type": "markdown",
   "metadata": {},
   "source": [
    "Taking the derivative of M(t) and evaluating at 0 we have E(x) = np.\n",
    "\n",
    "Now, V(x) is the double derivative - the single squared. Evaluating this at 0 yields V(X) = np(1-p)"
   ]
  },
  {
   "cell_type": "markdown",
   "metadata": {},
   "source": [
    "### Important Results\n",
    "\n",
    "1) Let $X$ and $Y$ be random variables with mgfs $M_X$ and $M_Y$. $X$ and $Y$ are said to be identically distributed if and only if $M_X(t) = M_Y(t)$ for all $t$ in som interval containing 0. \n",
    "\n",
    "2) MGF of linear transformation of random variable: If $a$ and $b$ are constants, then \n",
    "\n",
    "$$\n",
    "M_{aX+b}(t) = e^{bt}M_X(at)\n",
    "$$\n",
    "\n",
    "3) MGF of sum of independent random variables: If $X$ and $Y$ are independent random variables with mgfs $M_X$ and $M_Y$, then\n",
    "\n",
    "$$\n",
    "M_{X+Y}(t)=M_X(t) \\cdot M_Y(t)\n",
    "$$\n",
    "\n",
    " "
   ]
  },
  {
   "cell_type": "markdown",
   "metadata": {},
   "source": [
    "#### Example 6 \n",
    "\n",
    "Let $X \\sim \\textsf{Exp}(\\lambda)$. Find the distribution of $Y=3X$."
   ]
  },
  {
   "cell_type": "markdown",
   "metadata": {},
   "source": [
    "We know it is equal to Mx(lambda*t)"
   ]
  },
  {
   "cell_type": "markdown",
   "metadata": {},
   "source": [
    "#### Example 7 \n",
    "\n",
    "Suppose $X_1, X_2, ..., X_n$ are independent identically distributed $\\textsf{Norm}(\\mu,\\sigma)$. Find the distribution of $S=X_1+X_2+...+X_n$ and $\\bar{X} = \\frac{X_1+X_2+...+X_n}{n}$. Note that the mgf of a normally distributed random variable is $M_X(t)=e^{\\mu t+\\sigma^2 t^2/2}$."
   ]
  },
  {
   "cell_type": "markdown",
   "metadata": {},
   "source": [
    "Distribution of S is e^(u*t+o^2+t^2/2)^n\n",
    "\n",
    "and the distriubtion of Xbar is \n",
    "\n",
    "S/n"
   ]
  },
  {
   "cell_type": "code",
   "execution_count": null,
   "metadata": {},
   "outputs": [],
   "source": []
  }
 ],
 "metadata": {
  "kernelspec": {
   "display_name": "Python 3",
   "language": "python",
   "name": "python3"
  },
  "language_info": {
   "codemirror_mode": {
    "name": "ipython",
    "version": 3
   },
   "file_extension": ".py",
   "mimetype": "text/x-python",
   "name": "python",
   "nbconvert_exporter": "python",
   "pygments_lexer": "ipython3",
   "version": "3.6.5"
  }
 },
 "nbformat": 4,
 "nbformat_minor": 2
}
