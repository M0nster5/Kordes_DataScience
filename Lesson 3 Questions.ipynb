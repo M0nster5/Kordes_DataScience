{
 "cells": [
  {
   "cell_type": "markdown",
   "metadata": {},
   "source": [
    "# Lesson 3 \n",
    "    0) Adding all the necessary prerequesites for this python lab"
   ]
  },
  {
   "cell_type": "code",
   "execution_count": 3,
   "metadata": {},
   "outputs": [],
   "source": [
    "import numpy as np\n",
    "from datetime import *\n",
    "from datascience import *\n",
    "%matplotlib inline\n",
    "import matplotlib.pyplot as plots\n",
    "plots.style.use('fivethirtyeight')\n",
    "import warnings\n"
   ]
  },
  {
   "cell_type": "markdown",
   "metadata": {},
   "source": [
    "    1) Using basic Python operators to find the number of seconds in the month of June. Using basic Python operators to find the number of seconds that lapsed between 14 Aug, 0930 and 1 June, 1200. I will use the datetime date package to find the number of days that elapse"
   ]
  },
  {
   "cell_type": "code",
   "execution_count": 6,
   "metadata": {},
   "outputs": [
    {
     "data": {
      "text/plain": [
       "2592000"
      ]
     },
     "execution_count": 6,
     "metadata": {},
     "output_type": "execute_result"
    }
   ],
   "source": [
    "30*24*60*60"
   ]
  },
  {
   "cell_type": "code",
   "execution_count": 7,
   "metadata": {},
   "outputs": [
    {
     "data": {
      "text/plain": [
       "25151400.0"
      ]
     },
     "execution_count": 7,
     "metadata": {},
     "output_type": "execute_result"
    }
   ],
   "source": [
    "(date(2019,6,1)-date(2018, 8, 14)).days*24*60*60+2.5*60*60"
   ]
  },
  {
   "cell_type": "markdown",
   "metadata": {},
   "source": [
    "    2) Import a table and find the population in 2016, the population growth between 1950 and 2015 and the annual growth rates over the course of the dataset"
   ]
  },
  {
   "cell_type": "code",
   "execution_count": 8,
   "metadata": {},
   "outputs": [],
   "source": [
    "population = Table.read_table('world_population.csv')"
   ]
  },
  {
   "cell_type": "markdown",
   "metadata": {},
   "source": [
    "        a) The population in 2015 is"
   ]
  },
  {
   "cell_type": "code",
   "execution_count": 13,
   "metadata": {},
   "outputs": [
    {
     "data": {
      "text/html": [
       "<table border=\"1\" class=\"dataframe\">\n",
       "    <thead>\n",
       "        <tr>\n",
       "            <th>Population</th>\n",
       "        </tr>\n",
       "    </thead>\n",
       "    <tbody>\n",
       "        <tr>\n",
       "            <td>7256490011</td>\n",
       "        </tr>\n",
       "    </tbody>\n",
       "</table>"
      ],
      "text/plain": [
       "<IPython.core.display.HTML object>"
      ]
     },
     "metadata": {},
     "output_type": "display_data"
    }
   ],
   "source": [
    "population.take(population.num_rows-1).show()"
   ]
  },
  {
   "cell_type": "markdown",
   "metadata": {},
   "source": [
    "        b) Find difference in population between 1950 and 2015"
   ]
  },
  {
   "cell_type": "code",
   "execution_count": 18,
   "metadata": {},
   "outputs": [
    {
     "data": {
      "text/plain": [
       "4698861357"
      ]
     },
     "execution_count": 18,
     "metadata": {},
     "output_type": "execute_result"
    }
   ],
   "source": [
    "population.column(0).item(-1)-population.column(0).item(0)"
   ]
  },
  {
   "cell_type": "markdown",
   "metadata": {},
   "source": [
    "        C) Find the average annual growth rate over the course of the dataset"
   ]
  },
  {
   "cell_type": "code",
   "execution_count": 30,
   "metadata": {},
   "outputs": [
    {
     "data": {
      "text/plain": [
       "1.617270380658975"
      ]
     },
     "execution_count": 30,
     "metadata": {},
     "output_type": "execute_result"
    }
   ],
   "source": [
    "((population.column(0).item(-1)/population.column(0).item(0))**(1/65) - 1)*100"
   ]
  },
  {
   "cell_type": "markdown",
   "metadata": {},
   "source": [
    "    4) Let's have some fun with titanic data"
   ]
  },
  {
   "cell_type": "code",
   "execution_count": 68,
   "metadata": {},
   "outputs": [
    {
     "data": {
      "text/html": [
       "<table border=\"1\" class=\"dataframe\">\n",
       "    <thead>\n",
       "        <tr>\n",
       "            <th>PassengerId</th> <th>Survived</th> <th>Pclass</th> <th>Name</th> <th>Sex</th> <th>Age</th> <th>SibSp</th> <th>Parch</th> <th>Ticket</th> <th>Fare</th> <th>Cabin</th> <th>Embarked</th>\n",
       "        </tr>\n",
       "    </thead>\n",
       "    <tbody>\n",
       "        <tr>\n",
       "            <td>1          </td> <td>0       </td> <td>3     </td> <td>Braund, Mr. Owen Harris                            </td> <td>male  </td> <td>22  </td> <td>1    </td> <td>0    </td> <td>A/5 21171       </td> <td>7.25   </td> <td>nan  </td> <td>S       </td>\n",
       "        </tr>\n",
       "        <tr>\n",
       "            <td>2          </td> <td>1       </td> <td>1     </td> <td>Cumings, Mrs. John Bradley (Florence Briggs Thayer)</td> <td>female</td> <td>38  </td> <td>1    </td> <td>0    </td> <td>PC 17599        </td> <td>71.2833</td> <td>C85  </td> <td>C       </td>\n",
       "        </tr>\n",
       "        <tr>\n",
       "            <td>3          </td> <td>1       </td> <td>3     </td> <td>Heikkinen, Miss. Laina                             </td> <td>female</td> <td>26  </td> <td>0    </td> <td>0    </td> <td>STON/O2. 3101282</td> <td>7.925  </td> <td>nan  </td> <td>S       </td>\n",
       "        </tr>\n",
       "        <tr>\n",
       "            <td>4          </td> <td>1       </td> <td>1     </td> <td>Futrelle, Mrs. Jacques Heath (Lily May Peel)       </td> <td>female</td> <td>35  </td> <td>1    </td> <td>0    </td> <td>113803          </td> <td>53.1   </td> <td>C123 </td> <td>S       </td>\n",
       "        </tr>\n",
       "        <tr>\n",
       "            <td>5          </td> <td>0       </td> <td>3     </td> <td>Allen, Mr. William Henry                           </td> <td>male  </td> <td>35  </td> <td>0    </td> <td>0    </td> <td>373450          </td> <td>8.05   </td> <td>nan  </td> <td>S       </td>\n",
       "        </tr>\n",
       "    </tbody>\n",
       "</table>\n",
       "<p>... (886 rows omitted)</p>"
      ],
      "text/plain": [
       "<IPython.core.display.HTML object>"
      ]
     },
     "metadata": {},
     "output_type": "display_data"
    }
   ],
   "source": [
    "# Initialize titanic data into a table from the given csv link\n",
    "titanicData = Table.read_table('https://raw.githubusercontent.com/oikobill/Kaggle/master/Titanic/data/train.csv')\n",
    "titanicData.show(5)"
   ]
  },
  {
   "cell_type": "code",
   "execution_count": 69,
   "metadata": {},
   "outputs": [
    {
     "data": {
      "text/html": [
       "<table border=\"1\" class=\"dataframe\">\n",
       "    <thead>\n",
       "        <tr>\n",
       "            <th>PassengerId</th> <th>Survived</th> <th>passenger_class</th> <th>Name</th> <th>Sex</th> <th>Age</th> <th>SibSp</th> <th>Parch</th> <th>Ticket</th> <th>Fare</th> <th>Cabin</th> <th>Embarked</th> <th>family_size</th>\n",
       "        </tr>\n",
       "    </thead>\n",
       "    <tbody>\n",
       "        <tr>\n",
       "            <td>1          </td> <td>0       </td> <td>3              </td> <td>Braund, Mr. Owen Harris                            </td> <td>male  </td> <td>22  </td> <td>1    </td> <td>0    </td> <td>A/5 21171       </td> <td>7.25   </td> <td>nan  </td> <td>S       </td> <td>1          </td>\n",
       "        </tr>\n",
       "        <tr>\n",
       "            <td>2          </td> <td>1       </td> <td>1              </td> <td>Cumings, Mrs. John Bradley (Florence Briggs Thayer)</td> <td>female</td> <td>38  </td> <td>1    </td> <td>0    </td> <td>PC 17599        </td> <td>71.2833</td> <td>C85  </td> <td>C       </td> <td>1          </td>\n",
       "        </tr>\n",
       "        <tr>\n",
       "            <td>3          </td> <td>1       </td> <td>3              </td> <td>Heikkinen, Miss. Laina                             </td> <td>female</td> <td>26  </td> <td>0    </td> <td>0    </td> <td>STON/O2. 3101282</td> <td>7.925  </td> <td>nan  </td> <td>S       </td> <td>0          </td>\n",
       "        </tr>\n",
       "        <tr>\n",
       "            <td>4          </td> <td>1       </td> <td>1              </td> <td>Futrelle, Mrs. Jacques Heath (Lily May Peel)       </td> <td>female</td> <td>35  </td> <td>1    </td> <td>0    </td> <td>113803          </td> <td>53.1   </td> <td>C123 </td> <td>S       </td> <td>1          </td>\n",
       "        </tr>\n",
       "        <tr>\n",
       "            <td>5          </td> <td>0       </td> <td>3              </td> <td>Allen, Mr. William Henry                           </td> <td>male  </td> <td>35  </td> <td>0    </td> <td>0    </td> <td>373450          </td> <td>8.05   </td> <td>nan  </td> <td>S       </td> <td>0          </td>\n",
       "        </tr>\n",
       "    </tbody>\n",
       "</table>\n",
       "<p>... (886 rows omitted)</p>"
      ],
      "text/plain": [
       "<IPython.core.display.HTML object>"
      ]
     },
     "metadata": {},
     "output_type": "display_data"
    }
   ],
   "source": [
    "# relabel the column named pClass to passenger_class\n",
    "titanicData.relabel(2, 'passenger_class')\n",
    "\n",
    "# Creating a new column ‘family_size’ that adds the number of siblings/spouses, ‘SibSp’, to the number of children, ‘Parch’.\n",
    "\n",
    "# Create an array that is SibSP and Parch added together\n",
    "newColumn = titanicData.column(6) + titanicData.column(7)\n",
    "\n",
    "# Append the column with the new name\n",
    "titanicData.append_column('family_size', newColumn)\n",
    "\n",
    "titanicData.show(5)"
   ]
  },
  {
   "cell_type": "code",
   "execution_count": 70,
   "metadata": {},
   "outputs": [
    {
     "data": {
      "image/png": "[encoded data removed]",
      "text/plain": [
       "<Figure size 432x288 with 1 Axes>"
      ]
     },
     "metadata": {},
     "output_type": "display_data"
    }
   ],
   "source": [
    "# Create a barplot of number of passengers, broken down by passenger class.\n",
    "\n",
    "# Group the passenger_class (1,2,3)\n",
    "dataForP1 = titanicData.group('passenger_class')\n",
    " \n",
    "# plot the groupings using the bar function\n",
    "dataForP1.bar(column_for_categories=0, select=None, overlay=True)\n",
    "\n"
   ]
  },
  {
   "cell_type": "code",
   "execution_count": 76,
   "metadata": {},
   "outputs": [
    {
     "data": {
      "text/html": [
       "<table border=\"1\" class=\"dataframe\">\n",
       "    <thead>\n",
       "        <tr>\n",
       "            <th>PassengerId</th> <th>Survived</th> <th>passenger_class</th> <th>Name</th> <th>Sex</th> <th>Age</th> <th>SibSp</th> <th>Parch</th> <th>Ticket</th> <th>Fare</th> <th>Cabin</th> <th>Embarked</th> <th>family_size</th>\n",
       "        </tr>\n",
       "    </thead>\n",
       "    <tbody>\n",
       "        <tr>\n",
       "            <td>804        </td> <td>1       </td> <td>3              </td> <td>Thomas, Master. Assad Alexander</td> <td>male  </td> <td>0.42</td> <td>0    </td> <td>1    </td> <td>2625  </td> <td>8.5167 </td> <td>nan  </td> <td>C       </td> <td>1          </td>\n",
       "        </tr>\n",
       "        <tr>\n",
       "            <td>756        </td> <td>1       </td> <td>2              </td> <td>Hamalainen, Master. Viljo      </td> <td>male  </td> <td>0.67</td> <td>1    </td> <td>1    </td> <td>250649</td> <td>14.5   </td> <td>nan  </td> <td>S       </td> <td>2          </td>\n",
       "        </tr>\n",
       "        <tr>\n",
       "            <td>470        </td> <td>1       </td> <td>3              </td> <td>Baclini, Miss. Helene Barbara  </td> <td>female</td> <td>0.75</td> <td>2    </td> <td>1    </td> <td>2666  </td> <td>19.2583</td> <td>nan  </td> <td>C       </td> <td>3          </td>\n",
       "        </tr>\n",
       "        <tr>\n",
       "            <td>645        </td> <td>1       </td> <td>3              </td> <td>Baclini, Miss. Eugenie         </td> <td>female</td> <td>0.75</td> <td>2    </td> <td>1    </td> <td>2666  </td> <td>19.2583</td> <td>nan  </td> <td>C       </td> <td>3          </td>\n",
       "        </tr>\n",
       "        <tr>\n",
       "            <td>79         </td> <td>1       </td> <td>2              </td> <td>Caldwell, Master. Alden Gates  </td> <td>male  </td> <td>0.83</td> <td>0    </td> <td>2    </td> <td>248738</td> <td>29     </td> <td>nan  </td> <td>S       </td> <td>2          </td>\n",
       "        </tr>\n",
       "    </tbody>\n",
       "</table>\n",
       "<p>... (886 rows omitted)</p>"
      ],
      "text/plain": [
       "<IPython.core.display.HTML object>"
      ]
     },
     "metadata": {},
     "output_type": "display_data"
    }
   ],
   "source": [
    "# Sort the data by age and show the youngest 5 passengers.\n",
    "titanicData.sort(5).show(5)\n"
   ]
  },
  {
   "cell_type": "code",
   "execution_count": 85,
   "metadata": {},
   "outputs": [
    {
     "data": {
      "text/html": [
       "<table border=\"1\" class=\"dataframe\">\n",
       "    <thead>\n",
       "        <tr>\n",
       "            <th>PassengerId</th> <th>Survived</th> <th>passenger_class</th> <th>Name</th> <th>Sex</th> <th>Age</th> <th>SibSp</th> <th>Parch</th> <th>Ticket</th> <th>Fare</th> <th>Cabin</th> <th>Embarked</th> <th>family_size</th>\n",
       "        </tr>\n",
       "    </thead>\n",
       "    <tbody>\n",
       "        <tr>\n",
       "            <td>631        </td> <td>1       </td> <td>1              </td> <td>Barkworth, Mr. Algernon Henry Wilson</td> <td>male</td> <td>80  </td> <td>0    </td> <td>0    </td> <td>27042   </td> <td>30     </td> <td>A23  </td> <td>S       </td> <td>0          </td>\n",
       "        </tr>\n",
       "        <tr>\n",
       "            <td>852        </td> <td>0       </td> <td>3              </td> <td>Svensson, Mr. Johan                 </td> <td>male</td> <td>74  </td> <td>0    </td> <td>0    </td> <td>347060  </td> <td>7.775  </td> <td>nan  </td> <td>S       </td> <td>0          </td>\n",
       "        </tr>\n",
       "        <tr>\n",
       "            <td>494        </td> <td>0       </td> <td>1              </td> <td>Artagaveytia, Mr. Ramon             </td> <td>male</td> <td>71  </td> <td>0    </td> <td>0    </td> <td>PC 17609</td> <td>49.5042</td> <td>nan  </td> <td>C       </td> <td>0          </td>\n",
       "        </tr>\n",
       "        <tr>\n",
       "            <td>97         </td> <td>0       </td> <td>1              </td> <td>Goldschmidt, Mr. George B           </td> <td>male</td> <td>71  </td> <td>0    </td> <td>0    </td> <td>PC 17754</td> <td>34.6542</td> <td>A5   </td> <td>C       </td> <td>0          </td>\n",
       "        </tr>\n",
       "        <tr>\n",
       "            <td>117        </td> <td>0       </td> <td>3              </td> <td>Connors, Mr. Patrick                </td> <td>male</td> <td>70.5</td> <td>0    </td> <td>0    </td> <td>370369  </td> <td>7.75   </td> <td>nan  </td> <td>Q       </td> <td>0          </td>\n",
       "        </tr>\n",
       "    </tbody>\n",
       "</table>\n",
       "<p>... (709 rows omitted)</p>"
      ],
      "text/plain": [
       "<IPython.core.display.HTML object>"
      ]
     },
     "metadata": {},
     "output_type": "display_data"
    }
   ],
   "source": [
    "#Now sort by age from oldest to youngest and show the oldest 5 passengers.\n",
    "\n",
    "#remove all the nan entries and show the oldest 5 passengers\n",
    "ascending = titanicData.sort(5,'ascending').where('Age', are.not_above(80))\n",
    "ascending.show(5)"
   ]
  },
  {
   "cell_type": "code",
   "execution_count": 100,
   "metadata": {},
   "outputs": [
    {
     "data": {
      "text/html": [
       "<table border=\"1\" class=\"dataframe\">\n",
       "    <thead>\n",
       "        <tr>\n",
       "            <th>Survived</th> <th>passenger_class</th>\n",
       "        </tr>\n",
       "    </thead>\n",
       "    <tbody>\n",
       "        <tr>\n",
       "            <td>0       </td> <td>3              </td>\n",
       "        </tr>\n",
       "        <tr>\n",
       "            <td>1       </td> <td>1              </td>\n",
       "        </tr>\n",
       "        <tr>\n",
       "            <td>1       </td> <td>3              </td>\n",
       "        </tr>\n",
       "        <tr>\n",
       "            <td>1       </td> <td>1              </td>\n",
       "        </tr>\n",
       "        <tr>\n",
       "            <td>0       </td> <td>3              </td>\n",
       "        </tr>\n",
       "    </tbody>\n",
       "</table>\n",
       "<p>... (886 rows omitted)</p>"
      ],
      "text/plain": [
       "<IPython.core.display.HTML object>"
      ]
     },
     "metadata": {},
     "output_type": "display_data"
    }
   ],
   "source": [
    "#Find the survival rate for passengers of the Titanic, broken down by passenger class.\n",
    "\n",
    "simplifiedTable = titanicData.drop(0,3,4,5,6,7,8,9,10,11,12)\n",
    "simplifiedTable.show(5)\n",
    "\n",
    "usefulData = simplifiedTable.groups(['Survived','passenger_class']).exclude(range(3))\n",
    "\n",
    "survivalRates = usefulData.column(2)/dataForP1.column(1)"
   ]
  },
  {
   "cell_type": "code",
   "execution_count": null,
   "metadata": {},
   "outputs": [],
   "source": [
    "#New Questions"
   ]
  }
 ],
 "metadata": {
  "kernelspec": {
   "display_name": "Python 3",
   "language": "python",
   "name": "python3"
  },
  "language_info": {
   "codemirror_mode": {
    "name": "ipython",
    "version": 3
   },
   "file_extension": ".py",
   "mimetype": "text/x-python",
   "name": "python",
   "nbconvert_exporter": "python",
   "pygments_lexer": "ipython3",
   "version": "3.6.5"
  }
 },
 "nbformat": 4,
 "nbformat_minor": 2
}
