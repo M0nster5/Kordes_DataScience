{
 "cells": [
  {
   "cell_type": "code",
   "execution_count": 8,
   "metadata": {},
   "outputs": [],
   "source": [
    "from datascience import *\n",
    "import numpy as np\n",
    "from math import *\n",
    "from scipy import stats\n",
    "import matplotlib.pyplot as plt\n",
    "%matplotlib inline\n",
    "import random"
   ]
  },
  {
   "cell_type": "code",
   "execution_count": 3,
   "metadata": {},
   "outputs": [
    {
     "data": {
      "text/plain": [
       "0.0012726338013398079"
      ]
     },
     "execution_count": 3,
     "metadata": {},
     "output_type": "execute_result"
    }
   ],
   "source": [
    "stats.poisson.pmf(0,40/6)"
   ]
  },
  {
   "cell_type": "code",
   "execution_count": 5,
   "metadata": {},
   "outputs": [
    {
     "data": {
      "text/plain": [
       "0.03019738342231848"
      ]
     },
     "execution_count": 5,
     "metadata": {},
     "output_type": "execute_result"
    }
   ],
   "source": [
    "1-stats.expon.cdf(5,1/(2/3))"
   ]
  },
  {
   "cell_type": "code",
   "execution_count": 6,
   "metadata": {},
   "outputs": [
    {
     "data": {
      "text/plain": [
       "3.802585092994046"
      ]
     },
     "execution_count": 6,
     "metadata": {},
     "output_type": "execute_result"
    }
   ],
   "source": [
    "stats.expon.ppf(.9,1/(2/3))"
   ]
  },
  {
   "cell_type": "code",
   "execution_count": 32,
   "metadata": {},
   "outputs": [
    {
     "data": {
      "text/html": [
       "<table border=\"1\" class=\"dataframe\">\n",
       "    <thead>\n",
       "        <tr>\n",
       "            <th>Tail Numbers</th>\n",
       "        </tr>\n",
       "    </thead>\n",
       "    <tbody>\n",
       "        <tr>\n",
       "            <td>1001        </td>\n",
       "        </tr>\n",
       "        <tr>\n",
       "            <td>1701        </td>\n",
       "        </tr>\n",
       "        <tr>\n",
       "            <td>541         </td>\n",
       "        </tr>\n",
       "        <tr>\n",
       "            <td>1286        </td>\n",
       "        </tr>\n",
       "        <tr>\n",
       "            <td>881         </td>\n",
       "        </tr>\n",
       "        <tr>\n",
       "            <td>1923        </td>\n",
       "        </tr>\n",
       "        <tr>\n",
       "            <td>14          </td>\n",
       "        </tr>\n",
       "        <tr>\n",
       "            <td>1369        </td>\n",
       "        </tr>\n",
       "        <tr>\n",
       "            <td>788         </td>\n",
       "        </tr>\n",
       "        <tr>\n",
       "            <td>54          </td>\n",
       "        </tr>\n",
       "    </tbody>\n",
       "</table>\n",
       "<p>... (30 rows omitted)</p>"
      ],
      "text/plain": [
       "<IPython.core.display.HTML object>"
      ]
     },
     "metadata": {},
     "output_type": "display_data"
    },
    {
     "name": "stdout",
     "output_type": "stream",
     "text": [
      "1826.2\n"
     ]
    }
   ],
   "source": [
    "np.random.seed(2020)\n",
    "plane_serial_numbers = np.random.choice(np.arange(2000),40,replace = False)\n",
    "plane_serial_numbers\n",
    "\n",
    "\n",
    "my_sample = Table().with_column(\"Tail Numbers\", plane_serial_numbers)\n",
    "my_sample.show(10)\n",
    "\n",
    "obs = 2*np.average(my_sample.column(0))-1\n",
    "print(obs)"
   ]
  },
  {
   "cell_type": "code",
   "execution_count": 34,
   "metadata": {},
   "outputs": [
    {
     "name": "stdout",
     "output_type": "stream",
     "text": [
      "left,  1186.45\n",
      "Right,  1378.9\n"
     ]
    }
   ],
   "source": [
    "ts = []\n",
    "for _ in np.arange(5000):\n",
    "    new_sample = my_sample.sample(with_replacement = True)\n",
    "    new_ts = 2*np.average(new_sample.column(0))-1\n",
    "    ts = np.append(ts,new_ts)\n",
    "\n",
    "print(\"left, \" ,percentile(.05,ts))\n",
    "print(\"Right, \" ,percentile(.95,ts))"
   ]
  },
  {
   "cell_type": "code",
   "execution_count": null,
   "metadata": {},
   "outputs": [],
   "source": []
  }
 ],
 "metadata": {
  "kernelspec": {
   "display_name": "Python 3",
   "language": "python",
   "name": "python3"
  },
  "language_info": {
   "codemirror_mode": {
    "name": "ipython",
    "version": 3
   },
   "file_extension": ".py",
   "mimetype": "text/x-python",
   "name": "python",
   "nbconvert_exporter": "python",
   "pygments_lexer": "ipython3",
   "version": "3.6.5"
  }
 },
 "nbformat": 4,
 "nbformat_minor": 2
}
